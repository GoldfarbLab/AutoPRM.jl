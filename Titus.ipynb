{
 "cells": [
  {
   "cell_type": "markdown",
   "id": "ea7d2c01-2d23-4239-bf1f-24a5f4c5e80e",
   "metadata": {},
   "source": [
    "### Survey Run Analyses\n",
    "```\n",
    "; julia ./src/Routines/PRM/IS-PRM_SURVEY/routine.jl ./data/example_config/IS-PRM-SURVEY-TEST.json ./data/parquet/ ./data/NRF2_SIL.txt\n",
    "```\n",
    "### ARGS\n",
    "|Name                |Default| Short        |Description                    |\n",
    " |--------------------|-------|-------------|--------------------|\n",
    " |params_json||mandatory|Path to a .json file with the parameters (see Configuration)\n",
    " |data_dir||mandatory|\"Path to a folder with .arrow MS data tables\"\n",
    " |precursor_list||mandatory|\"Path to a tab delimited table of precursors\"\n",
    " |--make_plots|true|-p|\"Whether to make plots. Defaults to `true`\"\n",
    " |--print_params|false|-s|\"Whether to print the parameters from the json. Defaults to `false`\"\n",
    " \n",
    " ### CONFIG\n",
    " ```\n",
    "{\n",
    "    \"right_precursor_tolerance\": 0.001,\n",
    "    \"left_precursor_tolerance\": 0.001,\n",
    "    \"precursor_rt_tolerance\": 0.3,\n",
    "    \"b_ladder_start\": 3,\n",
    "    \"y_ladder_start\": 3,\n",
    "    \"precursor_charges\": [2, 3, 4],\n",
    "    \"precursor_isotopes\": [0],\n",
    "    \"transition_charges\": [1, 2],\n",
    "    \"transition_isotopes\": [0],\n",
    "    \"fragment_match_ppm\": 40,\n",
    "    \"minimum_fragment_count\": 5,\n",
    "    \"fragments_to_select\": 5,\n",
    "    \"precursor_rt_window\": 0.3,\n",
    "    \"max_variable_mods\": 2,\n",
    "    \"fixed_mods\":[\n",
    "                     [\"C\",\"C[Carb]\"],\n",
    "                     [\"K$\",\"K[Hlys]\"],\n",
    "                     [\"R$\",\"R[Harg]\"]\n",
    "    ],\n",
    "    \"variable_mods\":\n",
    "    [],\n",
    "    \"modification_masses\":\n",
    "        {\n",
    "        \"Carb\":57.021464,\n",
    "        \"Harg\":10.008269,\n",
    "        \"Hlys\":8.014199\n",
    "        },\n",
    "    \"ms_file_conditions\":\n",
    "        {\n",
    "            \"_35NCE_\":\"35NCE\",\n",
    "            \"_40NCE_\":\"40NCE\",\n",
    "            \"GAPDH\":\"GAPDH\"\n",
    "        }\n",
    "}\n",
    "```\n",
    " "
   ]
  },
  {
   "cell_type": "code",
   "execution_count": 10,
   "id": "402c1c91-5919-4761-97fb-1016f13b021f",
   "metadata": {
    "tags": []
   },
   "outputs": [
    {
     "name": "stdout",
     "output_type": "stream",
     "text": [
      "Processing: 2 files\n",
      "Time to build precursor table 0.001320423\n",
      " Scored 662 precursors\n",
      " 16.554006 seconds (69.86 M allocations: 3.991 GiB, 4.53% gc time, 89.78% compilation time: 1% of which was recompilation)\n",
      " 64.459390 seconds (102.71 M allocations: 5.557 GiB, 1.43% gc time, 12.69% compilation time: 39% of which was recompilation)\n"
     ]
    }
   ],
   "source": [
    "; julia ./src/Routines/PRM/IS-PRM-SURVEY/routine.jl ./data/example_config/IS-PRM-SURVEY-TEST.json /Users/n.t.wamsley/RIS_Temp/EWZ_KINOME/survey_runs /Users/n.t.wamsley/RIS_Temp/EWZ_KINOME/KINOME_MAR23.txt"
   ]
  },
  {
   "cell_type": "markdown",
   "id": "21ed5d32-08df-4e4b-8290-2ff8b2036238",
   "metadata": {},
   "source": [
    "### Survey Run Analyses\n",
    "```\n",
    "; julia ./src/Routines/PRM/IS-PRM_SURVEY/routine.jl ./data/test.json ./data/parquet/ ./data/NRF2_SIL.txt\n",
    "```\n",
    "|Name                |Default| Short        |Description                    |\n",
    " |--------------------|-------|-------------|--------------------|\n",
    " |params_json||mandatory|Path to a .json file with the parameters (see Configuration)\n",
    " |data_dir||mandatory|\"Path to a folder with .arrow MS data tables\"\n",
    " |transition_list||mandatory|\"Path to a tab delimited table of transitions\"\n",
    " |--make_plots|true|-p|\"Whether to make plots. Defaults to `true`\"\n",
    " |--print_params|false|-s|\"Whether to print the parameters from the json. Defaults to `false`\""
   ]
  },
  {
   "cell_type": "code",
   "execution_count": 12,
   "id": "89e6e44b-3798-400f-b5c1-704d25cd27ff",
   "metadata": {
    "tags": []
   },
   "outputs": [],
   "source": [
    "#; julia --threads 24 ./src/Routines/PRM/IS-PRM/routine.jl ./data/example_config/IS-PRM-TEST.json /Users/n.t.wamsley/RIS_Temp/EWZ_KINOME/parquet_out /Users/n.t.wamsley/RIS_Temp/EWZ_KINOME/survey_runs/transition_list.csv"
   ]
  },
  {
   "cell_type": "code",
   "execution_count": 5,
   "id": "9e21f7b5-a9da-4f2a-b389-c3e6295821bf",
   "metadata": {},
   "outputs": [
    {
     "data": {
      "text/plain": [
       "`\u001b[4mjulia\u001b[24m \u001b[4m--threads\u001b[24m \u001b[4m24\u001b[24m \u001b[4m./src/Routines/PRM/IS-PRM/routine.jl\u001b[24m \u001b[4m./data/example_config/IS-PRM-TEST.json\u001b[24m \u001b[4m/Users/n.t.wamsley/TEST_DATA/API_TESTING_JUL24/arrow_out\u001b[24m \u001b[4m/Users/n.t.wamsley/RIS_temp/SQ_METHODS/MOUSE_ES_TRAPELUTE_2023/SurveyRuns/DI_5ul/transition_list.csv\u001b[24m`"
      ]
     },
     "execution_count": 5,
     "metadata": {},
     "output_type": "execute_result"
    }
   ],
   "source": [
    "my_command = `julia --threads 24 \n",
    "./src/Routines/PRM/IS-PRM/routine.jl \n",
    "./data/example_config/IS-PRM-TEST.json \n",
    "/Users/n.t.wamsley/TEST_DATA/API_TESTING_JUL24/arrow_out\n",
    "/Users/n.t.wamsley/RIS_temp/SQ_METHODS/MOUSE_ES_TRAPELUTE_2023/SurveyRuns/DI_5ul/transition_list.csv`"
   ]
  },
  {
   "cell_type": "code",
   "execution_count": 12,
   "id": "a3601c74-3e8d-4598-841a-9a3659ac74cc",
   "metadata": {
    "tags": []
   },
   "outputs": [
    {
     "name": "stdout",
     "output_type": "stream",
     "text": [
      "Processing: 1 files\n",
      "Time to build precursor table 0.001756289\n",
      "N threads 24\n",
      "Starting Search...\n"
     ]
    },
    {
     "name": "stderr",
     "output_type": "stream",
     "text": [
      "0.0%┣"
     ]
    },
    {
     "name": "stdout",
     "output_type": "stream",
     "text": [
      "MS_TABLE_PATH: /Users/n.t.wamsley/TEST_DATA/API_TESTING_JUL24/arrow_out/HELA_MOUSESIL_METHTEST_07312024_06.arrow\n"
     ]
    },
    {
     "name": "stderr",
     "output_type": "stream",
     "text": [
      "                                                ┫ 0/1 [00:01<00:-1, -1s/it]\n",
      "ERROR: LoadError: MethodError: no method matching iterate(::Nothing)\n",
      "Closest candidates are:\n",
      "  iterate(!Matched::Union{LinRange, StepRangeLen}) at range.jl:872\n",
      "  iterate(!Matched::Union{LinRange, StepRangeLen}, !Matched::Integer) at range.jl:872\n",
      "  iterate(!Matched::T) where T<:Union{Base.KeySet{<:Any, <:Dict}, Base.ValueIterator{<:Dict}} at dict.jl:712\n",
      "  ...\n",
      "Stacktrace:\n",
      "  [1] getdictionaries!(dictencoded::Dict{Int64, Arrow.Flatbuf.Field}, field::Arrow.Flatbuf.Field)\n",
      "    @ Arrow ~/.julia/packages/Arrow/MJoOf/src/table.jl:387\n",
      "  [2] getdictionaries!(dictencoded::Dict{Int64, Arrow.Flatbuf.Field}, field::Arrow.Flatbuf.Field)\n",
      "    @ Arrow ~/.julia/packages/Arrow/MJoOf/src/table.jl:388\n",
      "  [3] macro expansion\n",
      "    @ ~/.julia/packages/Arrow/MJoOf/src/table.jl:317 [inlined]\n",
      "  [4] macro expansion\n",
      "    @ ./task.jl:454 [inlined]\n",
      "  [5] Arrow.Table(blobs::Vector{Arrow.ArrowBlob}; convert::Bool)\n",
      "    @ Arrow ~/.julia/packages/Arrow/MJoOf/src/table.jl:299\n",
      "  [6] Table\n",
      "    @ ~/.julia/packages/Arrow/MJoOf/src/table.jl:273 [inlined]\n",
      "  [7] #Table#98\n",
      "    @ ~/.julia/packages/Arrow/MJoOf/src/table.jl:268 [inlined]\n",
      "  [8] Table (repeats 2 times)\n",
      "    @ ~/.julia/packages/Arrow/MJoOf/src/table.jl:268 [inlined]\n",
      "  [9] macro expansion\n",
      "    @ ~/Projects/AutoPRM.jl-main/src/Routines/PRM/IS-PRM/routine.jl:121 [inlined]\n",
      " [10] top-level scope\n",
      "    @ ./timing.jl:262\n",
      "in expression starting at /Users/n.t.wamsley/Projects/AutoPRM.jl-main/src/Routines/PRM/IS-PRM/routine.jl:117\n"
     ]
    },
    {
     "ename": "LoadError",
     "evalue": "failed process: Process(`\u001b[4mjulia\u001b[24m \u001b[4m--threads\u001b[24m \u001b[4m24\u001b[24m \u001b[4m./src/Routines/PRM/IS-PRM/routine.jl\u001b[24m \u001b[4m./data/example_config/IS-PRM-TEST.json\u001b[24m \u001b[4m/Users/n.t.wamsley/TEST_DATA/API_TESTING_JUL24/arrow_out\u001b[24m \u001b[4m/Users/n.t.wamsley/RIS_temp/SQ_METHODS/MOUSE_ES_TRAPELUTE_2023/SurveyRuns/DI_5ul/transition_list.csv\u001b[24m`, ProcessExited(1)) [1]\n",
     "output_type": "error",
     "traceback": [
      "failed process: Process(`\u001b[4mjulia\u001b[24m \u001b[4m--threads\u001b[24m \u001b[4m24\u001b[24m \u001b[4m./src/Routines/PRM/IS-PRM/routine.jl\u001b[24m \u001b[4m./data/example_config/IS-PRM-TEST.json\u001b[24m \u001b[4m/Users/n.t.wamsley/TEST_DATA/API_TESTING_JUL24/arrow_out\u001b[24m \u001b[4m/Users/n.t.wamsley/RIS_temp/SQ_METHODS/MOUSE_ES_TRAPELUTE_2023/SurveyRuns/DI_5ul/transition_list.csv\u001b[24m`, ProcessExited(1)) [1]\n",
      "",
      "Stacktrace:",
      " [1] pipeline_error",
      "   @ ./process.jl:565 [inlined]",
      " [2] run(::Cmd; wait::Bool)",
      "   @ Base ./process.jl:480",
      " [3] run(::Cmd)",
      "   @ Base ./process.jl:477",
      " [4] top-level scope",
      "   @ In[12]:1"
     ]
    }
   ],
   "source": [
    "run(my_command)"
   ]
  },
  {
   "cell_type": "code",
   "execution_count": null,
   "id": "9515e99b-c2cc-4840-b35d-63f05ed5c09c",
   "metadata": {},
   "outputs": [],
   "source": []
  }
 ],
 "metadata": {
  "kernelspec": {
   "display_name": "Julia 1.8.5",
   "language": "julia",
   "name": "julia-1.8"
  },
  "language_info": {
   "file_extension": ".jl",
   "mimetype": "application/julia",
   "name": "julia",
   "version": "1.8.5"
  }
 },
 "nbformat": 4,
 "nbformat_minor": 5
}
